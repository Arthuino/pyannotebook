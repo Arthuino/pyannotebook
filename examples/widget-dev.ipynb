{
 "cells": [
  {
   "attachments": {},
   "cell_type": "markdown",
   "metadata": {},
   "source": [
    "*Ce notebook sert uniquement au dévelopement et au debug du widget pyannotebook.*"
   ]
  },
  {
   "attachments": {},
   "cell_type": "markdown",
   "metadata": {},
   "source": [
    "Commande pour le watch run :\n",
    "```bash\n",
    "watch-run -p 'src/**,css/**' yarn run\n",
    "```\n",
    "Commande compilation ts et css :\n",
    "```bash\n",
    "pip install -e \".[ examples]\"\n",
    "```\n",
    "pour le serveur jupyter :\n",
    "```bash\n",
    "jupyter lab\n",
    "```\n"
   ]
  },
  {
   "cell_type": "code",
   "execution_count": 6,
   "metadata": {},
   "outputs": [],
   "source": [
    "### PYANNOTEBOOK based on GROUND TRUTH ###\n",
    "\n",
    "# from pyannote.core import Annotation\n",
    "# assert isinstance(widget.annotation, Annotation)\n",
    "# from pyannotebook import load_rttm\n",
    "# annotation = load_rttm(\"sample.rttm\")[\"sample\"]\n",
    "\n",
    "# set annotation on widget\n",
    "# widget.annotation = annotation"
   ]
  },
  {
   "cell_type": "code",
   "execution_count": 7,
   "metadata": {},
   "outputs": [
    {
     "name": "stdout",
     "output_type": "stream",
     "text": [
      "Model was trained with pyannote.audio 0.0.1, yours is 2.1.1. Bad things might happen unless you revert pyannote.audio to 0.x.\n",
      "Model was trained with torch 1.10.0+cu102, yours is 2.0.1+cu117. Bad things might happen unless you revert torch to 1.x.\n"
     ]
    }
   ],
   "source": [
    "### PYANNOTEBOOK based on PIPELINE ###\n",
    "\n",
    "# load pretrained speaker diarization pipeline\n",
    "from pyannote.audio import Pipeline\n",
    "pipeline = Pipeline.from_pretrained(\"pyannote/speaker-diarization\")"
   ]
  },
  {
   "cell_type": "code",
   "execution_count": 8,
   "metadata": {},
   "outputs": [
    {
     "data": {
      "application/vnd.jupyter.widget-view+json": {
       "model_id": "e0becc20d9ff4abcb5f72be580bb8608",
       "version_major": 2,
       "version_minor": 0
      },
      "text/plain": [
       "Pyannotebook(children=(WavesurferWidget(active_label='a', b64='data:audio/x-wav;base64,UklGRjL6AABXQVZFZm10IBI…"
      ]
     },
     "execution_count": 8,
     "metadata": {},
     "output_type": "execute_result"
    }
   ],
   "source": [
    "# instantiate annotation widget with support for pre-annotation\n",
    "from pyannotebook import Pyannotebook\n",
    "\n",
    "widget = Pyannotebook(pipeline=pipeline, minimap=False)\n",
    "widget\n"
   ]
  },
  {
   "cell_type": "code",
   "execution_count": 9,
   "metadata": {
    "scrolled": true
   },
   "outputs": [
    {
     "data": {
      "application/vnd.jupyter.widget-view+json": {
       "model_id": "b3ef93ab385144bdaced86f109510473",
       "version_major": 2,
       "version_minor": 0
      },
      "text/plain": [
       "Output()"
      ]
     },
     "metadata": {},
     "output_type": "display_data"
    }
   ],
   "source": [
    "# setting `audio` attribute will automatically run the pipeline for pre-annotation\n",
    "widget.audio = \"sample.wav\""
   ]
  }
 ],
 "metadata": {
  "kernelspec": {
   "display_name": "Python 3 (ipykernel)",
   "language": "python",
   "name": "python3"
  },
  "language_info": {
   "codemirror_mode": {
    "name": "ipython",
    "version": 3
   },
   "file_extension": ".py",
   "mimetype": "text/x-python",
   "name": "python",
   "nbconvert_exporter": "python",
   "pygments_lexer": "ipython3",
   "version": "3.11.3"
  }
 },
 "nbformat": 4,
 "nbformat_minor": 4
}
