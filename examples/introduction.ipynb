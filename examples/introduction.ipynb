{
 "cells": [
  {
   "cell_type": "markdown",
   "id": "9d1719ad",
   "metadata": {},
   "source": [
    "# 🎹 pyannote + 🗒 notebook = pyannote**book**\n",
    "\n",
    "pyannote**book** is a custom [Jupyter widget](https://ipywidgets.readthedocs.io/en/stable/) built on top of [pyannote.core](http://pyannote.github.io/pyannote-core/) and [wavesurfer.js](https://wavesurfer-js.org/).\n",
    "\n",
    "It can be used to visualize and edit temporal audio labels. "
   ]
  },
  {
   "cell_type": "code",
   "execution_count": null,
   "id": "b30d1eb1",
   "metadata": {},
   "outputs": [
    {
     "data": {
      "application/vnd.jupyter.widget-view+json": {
       "model_id": "22e6732d9c344c348dce114f690d00c1",
       "version_major": 2,
       "version_minor": 0
      },
      "text/plain": [
       "Pyannotebook(children=(WavesurferWidget(active_label='a', audio='data:audio/x-wav;base64,UklGRjJMHQBXQVZFZm10I…"
      ]
     },
     "execution_count": null,
     "metadata": {},
     "output_type": "execute_result"
    }
   ],
   "source": [
    "from pyannotebook import Pyannotebook\n",
    "widget = Pyannotebook(\"sample.wav\")\n",
    "widget"
   ]
  },
  {
   "cell_type": "markdown",
   "id": "025361bc",
   "metadata": {},
   "source": [
    "## Loading existing `pyannote.core` annotations"
   ]
  },
  {
   "cell_type": "code",
   "execution_count": null,
   "id": "a55e9b94",
   "metadata": {},
   "outputs": [],
   "source": [
    "from pyannotebook import load_rttm\n",
    "annotation = load_rttm(\"sample.rttm\")[\"sample\"]\n",
    "widget.annotation = annotation"
   ]
  },
  {
   "cell_type": "markdown",
   "id": "93d36ce4",
   "metadata": {},
   "source": [
    "## Keyboard shortcut\n",
    "\n",
    "Keyboard shortcuts will only work when widget is active so make sure to move your mouse hover to use them.\n",
    "\n",
    "\n",
    "* `SPACE`: toggle play/pause \n",
    "* `ENTER`: create segment at current time\n",
    "* `A / B / C / ... / Z`: update label of active segment\n",
    "* `LEFT` / `RIGHT`: \n",
    "    - edit start time of active segment (if any)\n",
    "    - move time cursor (when paused)\n",
    "* `ALT+LEFT` / `ALT+RIGHT`: edit end time of active segment\n",
    "* `TAB` / `SHIFT+TAB`: activate next/previous segment\n",
    "* `BACKSPACE`: delete current segment and activate previous one\n",
    "* `DELETE` / `SHIFT+BACKSPACE`: delete current segment and activate next one\n",
    "* `ESC`: deactivate active segment\n",
    "* `LEFT / RIGHT`: change time (only works when in pause and no region is active)\n",
    "\n"
   ]
  },
  {
   "cell_type": "markdown",
   "id": "bc981373",
   "metadata": {},
   "source": [
    "## Reading manual annotations\n",
    "\n",
    "Reading the `annotation` property returns a `pyannote.core.Annotation` instance."
   ]
  },
  {
   "cell_type": "code",
   "execution_count": null,
   "id": "996e1865",
   "metadata": {},
   "outputs": [],
   "source": [
    "annotation = widget.annotation\n",
    "for segment, _, label in annotation.itertracks(yield_label=True):\n",
    "    # segment.start\n",
    "    # segment.end\n",
    "    # label\n",
    "    pass"
   ]
  }
 ],
 "metadata": {
  "kernelspec": {
   "display_name": "Python 3 (ipykernel)",
   "language": "python",
   "name": "python3"
  }
 },
 "nbformat": 4,
 "nbformat_minor": 5
}
