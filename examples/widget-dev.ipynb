{
 "cells": [
  {
   "attachments": {},
   "cell_type": "markdown",
   "metadata": {},
   "source": [
    "*Ce notebook sert uniquement au dévelopement et au debug du widget pyannotebook.*"
   ]
  },
  {
   "attachments": {},
   "cell_type": "markdown",
   "metadata": {},
   "source": [
    "Commande pour le watch run :\n",
    "```bash\n",
    "watch-run -p 'src/**,css/**' yarn run\n",
    "```\n",
    "Commande compilation ts et css :\n",
    "```bash\n",
    "pip install -e \".[ examples]\"\n",
    "```\n",
    "pour le serveur jupyter :\n",
    "```bash\n",
    "jupyter lab\n",
    "```\n"
   ]
  },
  {
   "cell_type": "code",
   "execution_count": 5,
   "metadata": {},
   "outputs": [
    {
     "data": {
      "application/vnd.jupyter.widget-view+json": {
       "model_id": "b94c1c488c084c2bb61b07387fd1ba3b",
       "version_major": 2,
       "version_minor": 0
      },
      "text/plain": [
       "Pyannotebook(children=(WavesurferWidget(active_label='a', b64='data:audio/x-wav;base64,UklGRjL6AABXQVZFZm10IBI…"
      ]
     },
     "execution_count": 5,
     "metadata": {},
     "output_type": "execute_result"
    }
   ],
   "source": [
    "from pyannotebook import Pyannotebook\n",
    "widget = Pyannotebook()\n",
    "widget"
   ]
  },
  {
   "cell_type": "code",
   "execution_count": 6,
   "metadata": {},
   "outputs": [],
   "source": [
    "widget.audio = \"sample.wav\"\n",
    "from pyannote.core import Annotation\n",
    "assert isinstance(widget.annotation, Annotation)"
   ]
  },
  {
   "cell_type": "code",
   "execution_count": 7,
   "metadata": {},
   "outputs": [],
   "source": [
    "from pyannotebook import load_rttm\n",
    "annotation = load_rttm(\"sample.rttm\")[\"sample\"]\n"
   ]
  },
  {
   "cell_type": "code",
   "execution_count": 8,
   "metadata": {},
   "outputs": [],
   "source": [
    "widget.annotation = annotation"
   ]
  },
  {
   "cell_type": "code",
   "execution_count": null,
   "metadata": {},
   "outputs": [],
   "source": []
  },
  {
   "cell_type": "code",
   "execution_count": null,
   "metadata": {},
   "outputs": [],
   "source": []
  }
 ],
 "metadata": {
  "kernelspec": {
   "display_name": "Python 3 (ipykernel)",
   "language": "python",
   "name": "python3"
  },
  "language_info": {
   "codemirror_mode": {
    "name": "ipython",
    "version": 3
   },
   "file_extension": ".py",
   "mimetype": "text/x-python",
   "name": "python",
   "nbconvert_exporter": "python",
   "pygments_lexer": "ipython3",
   "version": "3.11.3"
  }
 },
 "nbformat": 4,
 "nbformat_minor": 4
}
