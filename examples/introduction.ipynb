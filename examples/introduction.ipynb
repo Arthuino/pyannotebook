{
 "cells": [
  {
   "cell_type": "markdown",
   "id": "7d654a9e",
   "metadata": {},
   "source": [
    "# 🎹 pyannote + 🗒 notebook = pyannote**book**\n",
    "\n",
    "pyannote**book** is a custom [Jupyter widget](https://ipywidgets.readthedocs.io/en/stable/) built on top of [pyannote.core](http://pyannote.github.io/pyannote-core/) and [wavesurfer.js](https://wavesurfer-js.org/).\n",
    "\n",
    "It can be used to visualize and edit temporal audio labels. "
   ]
  },
  {
   "cell_type": "code",
   "execution_count": null,
   "id": "02dd23b1",
   "metadata": {},
   "outputs": [],
   "source": [
    "# download sample audio file\n",
    "!wget https://github.com/pyannote/pyannote-audio/raw/develop/tutorials/assets/sample.wav"
   ]
  },
  {
   "cell_type": "code",
   "execution_count": null,
   "id": "b30d1eb1",
   "metadata": {},
   "outputs": [
    {
     "data": {
      "application/vnd.jupyter.widget-view+json": {
       "model_id": "f1656dc659bb40ca96cafab6d39380eb",
       "version_major": 2,
       "version_minor": 0
      },
      "text/plain": [
       "Pyannotebook(children=(WavesurferWidget(active_label='a', b64='data:audio/x-wav;base64,UklGRjL6AABXQVZFZm10IBI…"
      ]
     },
     "execution_count": null,
     "metadata": {},
     "output_type": "execute_result"
    }
   ],
   "source": [
    "# instantiate annotation widget\n",
    "from pyannotebook import Pyannotebook\n",
    "widget = Pyannotebook()\n",
    "widget"
   ]
  },
  {
   "cell_type": "code",
   "execution_count": null,
   "id": "fd48408c",
   "metadata": {},
   "outputs": [],
   "source": [
    "# setting `audio` attribute will load the corresponding audio file\n",
    "widget.audio = \"sample.wav\""
   ]
  },
  {
   "cell_type": "markdown",
   "id": "3518c53d",
   "metadata": {},
   "source": [
    "## Keyboard shortcut\n",
    "\n",
    "Keyboard shortcuts will only work when widget is active so make sure to move your mouse hover to use them.\n",
    "\n",
    "Key                                           | Description\n",
    ":---------------------------------------------|:------------------------------------------------\n",
    "<kbd>SPACE</kbd>                                       | Toggle play/pause\n",
    "<kbd>ENTER</kbd>                                       | Create region at current time\n",
    "<kbd>A</kbd>, <kbd>B</kbd>, <kbd>C</kbd>, ..., or <kbd>Z</kbd>                    | Update label of selected region\n",
    "<kbd>LEFT</kbd> or <kbd>RIGHT</kbd>                             | 1. Edit start time of selected region (if any)<br/>2. Move time cursor (when paused)\n",
    "<kbd>SHIFT</kbd>+<kbd>LEFT</kbd> or <kbd>SHIFT</kbd>+<kbd>RIGHT</kbd>             | Same, but faster.\n",
    "<kbd>ALT</kbd>+<kbd>LEFT</kbd> or <kbd>ALT</kbd>+<kbd>RIGHT</kbd>                 | Edit end time of selected segment\n",
    "<kbd>SHIFT</kbd>+<kbd>ALT</kbd>+<kbd>LEFT</kbd> or <kbd>SHIFT</kbd>+<kbd>ALT</kbd>+<kbd>RIGHT</kbd> | Same, but faster.\n",
    "<kbd>TAB</kbd>                                         | Select next segment\n",
    "<kbd>SHIFT</kbd>+<kbd>TAB</kbd>                                 | Select previous segment\n",
    "<kbd>BACKSPACE</kbd>                                   | Delete selected region and select previous one\n",
    "<kbd>DELETE</kbd> or <kbd>SHIFT</kbd>+<kbd>BACKSPACE</kbd>               | Delete selected region and select next one\n",
    "<kbd>ESC</kbd>                                         | Unselect segment\n",
    "<kbd>UP</kbd> or <kbd>DOWN</kbd>                                | Zoom in/out (work in progress)"
   ]
  },
  {
   "cell_type": "markdown",
   "id": "61b8301e",
   "metadata": {},
   "source": [
    "## Reading manual annotations\n",
    "\n",
    "Reading the `annotation` property returns a [`pyannote.core.Annotation`](http://pyannote.github.io/pyannote-core/structure.html#annotation) instance..."
   ]
  },
  {
   "cell_type": "code",
   "execution_count": null,
   "id": "996e1865",
   "metadata": {},
   "outputs": [],
   "source": [
    "# check that it does indeed return an `Annotation` instance\n",
    "from pyannote.core import Annotation\n",
    "assert isinstance(widget.annotation, Annotation)"
   ]
  },
  {
   "cell_type": "markdown",
   "id": "8cfbd90a",
   "metadata": {},
   "source": [
    "... which can be iterated like this:"
   ]
  },
  {
   "cell_type": "code",
   "execution_count": null,
   "id": "232014ef",
   "metadata": {},
   "outputs": [],
   "source": [
    "# iterate over regions and their respective labels\n",
    "for segment, _, label in widget.annotation.itertracks(yield_label=True):\n",
    "    # segment.start\n",
    "    # segment.end\n",
    "    # label\n",
    "    ..."
   ]
  },
  {
   "cell_type": "markdown",
   "id": "32f46888",
   "metadata": {},
   "source": [
    "... or saved to disk in [`RTTM`](https://catalog.ldc.upenn.edu/docs/LDC2004T12/rt03-fall-eval-plan-v9.pdf) file format like this:"
   ]
  },
  {
   "cell_type": "code",
   "execution_count": null,
   "id": "3f9dfbc6",
   "metadata": {},
   "outputs": [],
   "source": [
    "with open(\"manual.rttm\", \"w\") as rttm:\n",
    "    widget.annotation.write_rttm(rttm)"
   ]
  },
  {
   "cell_type": "markdown",
   "id": "1471d1b7",
   "metadata": {},
   "source": [
    "## Loading existing `pyannote.core` annotations\n",
    "\n",
    "Setting the `annotation` property creates the correspond regions in the widget."
   ]
  },
  {
   "cell_type": "code",
   "execution_count": null,
   "id": "087b7b01",
   "metadata": {},
   "outputs": [],
   "source": [
    "# download existing annotation\n",
    "!wget https://github.com/pyannote/pyannote-audio/raw/develop/tutorials/assets/sample.rttm"
   ]
  },
  {
   "cell_type": "code",
   "execution_count": null,
   "id": "bda51454",
   "metadata": {},
   "outputs": [],
   "source": [
    "# load existing annotation from an RTTM file...\n",
    "from pyannotebook import load_rttm\n",
    "annotation = load_rttm(\"sample.rttm\")[\"sample\"]\n",
    "\n",
    "# ... and assign them to the `annotation` property\n",
    "widget.annotation = annotation"
   ]
  },
  {
   "cell_type": "markdown",
   "id": "f50e39c7",
   "metadata": {},
   "source": [
    "## _\"Model in the loop\"_\n",
    "\n",
    "`Pyannotebook` can also rely on pretrained [`pyannote.audio`](https://github.com/pyannote/pyannote-audio) pipelines to automatically pre-annotate audio files."
   ]
  },
  {
   "cell_type": "code",
   "execution_count": null,
   "id": "90fdc3f8",
   "metadata": {},
   "outputs": [],
   "source": [
    "# load pretrained speaker diarization pipeline\n",
    "from pyannote.audio import Pipeline\n",
    "pipeline = Pipeline.from_pretrained(\"pyannote/speaker-diarization\")"
   ]
  },
  {
   "cell_type": "code",
   "execution_count": null,
   "id": "0ec37501",
   "metadata": {},
   "outputs": [
    {
     "data": {
      "application/vnd.jupyter.widget-view+json": {
       "model_id": "2f1b2624e35445d2be600cb0b10a8ba8",
       "version_major": 2,
       "version_minor": 0
      },
      "text/plain": [
       "Pyannotebook(children=(WavesurferWidget(active_label='a', b64='data:audio/x-wav;base64,UklGRjL6AABXQVZFZm10IBI…"
      ]
     },
     "execution_count": null,
     "metadata": {},
     "output_type": "execute_result"
    }
   ],
   "source": [
    "# instantiate annotation widget with support for pre-annotation\n",
    "widget = Pyannotebook(pipeline=pipeline)\n",
    "widget"
   ]
  },
  {
   "cell_type": "code",
   "execution_count": null,
   "id": "8d6f532d",
   "metadata": {},
   "outputs": [
    {
     "data": {
      "application/vnd.jupyter.widget-view+json": {
       "model_id": "31ac66258b1d45f4ae1c5a76daa8c564",
       "version_major": 2,
       "version_minor": 0
      },
      "text/plain": [
       "Output()"
      ]
     },
     "metadata": {},
     "output_type": "display_data"
    },
    {
     "data": {
      "text/html": [
       "<pre style=\"white-space:pre;overflow-x:auto;line-height:normal;font-family:Menlo,'DejaVu Sans Mono',consolas,'Courier New',monospace\"></pre>\n"
      ],
      "text/plain": []
     },
     "metadata": {},
     "output_type": "display_data"
    },
    {
     "data": {
      "text/html": [
       "<pre style=\"white-space:pre;overflow-x:auto;line-height:normal;font-family:Menlo,'DejaVu Sans Mono',consolas,'Courier New',monospace\">\n",
       "</pre>\n"
      ],
      "text/plain": [
       "\n"
      ]
     },
     "metadata": {},
     "output_type": "display_data"
    }
   ],
   "source": [
    "# setting `audio` attribute will automatically run the pipeline for pre-annotation\n",
    "widget.audio = \"sample.wav\""
   ]
  }
 ],
 "metadata": {
  "kernelspec": {
   "display_name": "Python 3 (ipykernel)",
   "language": "python",
   "name": "python3"
  }
 },
 "nbformat": 4,
 "nbformat_minor": 5
}
