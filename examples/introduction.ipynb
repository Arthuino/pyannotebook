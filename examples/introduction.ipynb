{
 "cells": [
  {
   "cell_type": "code",
   "execution_count": null,
   "id": "b30d1eb1",
   "metadata": {},
   "outputs": [
    {
     "data": {
      "application/vnd.jupyter.widget-view+json": {
       "model_id": "62a4ce17770e4ca7aebe7f4f6db8a6d9",
       "version_major": 2,
       "version_minor": 0
      },
      "text/plain": [
       "Pyannotebook(children=(WavesurferWidget(active_label='a', audio='data:audio/x-wav;base64,UklGRjJMHQBXQVZFZm10I…"
      ]
     },
     "execution_count": null,
     "metadata": {},
     "output_type": "execute_result"
    }
   ],
   "source": [
    "from pyannotebook import Pyannotebook\n",
    "widget = Pyannotebook(\"sample.wav\")\n",
    "widget"
   ]
  },
  {
   "cell_type": "code",
   "execution_count": null,
   "id": "996e1865",
   "metadata": {},
   "outputs": [],
   "source": [
    "from pyannotebook import load_rttm\n",
    "annotation = load_rttm(\"sample.rttm\")[\"sample\"]\n",
    "widget.annotation = annotation"
   ]
  },
  {
   "cell_type": "code",
   "execution_count": null,
   "id": "82763f79",
   "metadata": {},
   "outputs": [
    {
     "name": "stdout",
     "output_type": "stream",
     "text": [
      "SPEAKER <NA> 1 6.690 0.430 <NA> <NA> speaker90 <NA> <NA>\n",
      "SPEAKER <NA> 1 7.550 0.800 <NA> <NA> speaker91 <NA> <NA>\n",
      "SPEAKER <NA> 1 8.320 1.700 <NA> <NA> speaker90 <NA> <NA>\n",
      "SPEAKER <NA> 1 9.920 1.110 <NA> <NA> speaker91 <NA> <NA>\n",
      "SPEAKER <NA> 1 10.570 4.130 <NA> <NA> speaker90 <NA> <NA>\n",
      "SPEAKER <NA> 1 14.490 3.430 <NA> <NA> speaker91 <NA> <NA>\n",
      "SPEAKER <NA> 1 18.050 3.440 <NA> <NA> speaker90 <NA> <NA>\n",
      "SPEAKER <NA> 1 18.150 0.440 <NA> <NA> speaker91 <NA> <NA>\n",
      "SPEAKER <NA> 1 21.780 6.720 <NA> <NA> speaker91 <NA> <NA>\n",
      "SPEAKER <NA> 1 27.850 2.150 <NA> <NA> speaker90 <NA> <NA>\n",
      "\n"
     ]
    }
   ],
   "source": [
    "print(widget.annotation.to_rttm())"
   ]
  },
  {
   "cell_type": "code",
   "execution_count": null,
   "id": "a74fa518",
   "metadata": {},
   "outputs": [],
   "source": [
    "del widget.annotation"
   ]
  }
 ],
 "metadata": {
  "kernelspec": {
   "display_name": "Python 3 (ipykernel)",
   "language": "python",
   "name": "python3"
  }
 },
 "nbformat": 4,
 "nbformat_minor": 5
}
